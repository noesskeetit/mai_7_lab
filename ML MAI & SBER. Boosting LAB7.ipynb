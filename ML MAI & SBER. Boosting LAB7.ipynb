{
 "cells": [
  {
   "cell_type": "markdown",
   "metadata": {
    "pycharm": {
     "name": "#%% md\n"
    },
    "id": "Zgoi8i6plWlO"
   },
   "source": [
    "### О ЛР:\n",
    "\n",
    "- Coding Gradient boosting\n",
    "\n",
    "----\n",
    "\n",
    "#### Самостоятельная оценка результатов\n",
    "\n",
    "Для удобства проверки, исходя из набора решенных задач, посчитайте свою максимальную оценку (Она тут равняется 6).\n",
    "\n",
    "**Оценка**:\n",
    "\n",
    "***DeadLine - 28.05.2024 23:59***\n",
    "\n",
    "### Формат сдачи\n",
    "Задания сдаются через lms. Вы прикрепляете **ССЫЛКУ НА ПУБЛИЧНЫЙ РЕПОЗИТОРИЙ**, где выполнено ваше задание. Иначе задание не проверяется."
   ]
  },
  {
   "cell_type": "code",
   "metadata": {
    "pycharm": {
     "name": "#%%\n"
    },
    "id": "1XDUNTn4lWlP",
    "ExecuteTime": {
     "end_time": "2024-06-12T02:54:31.046085Z",
     "start_time": "2024-06-12T02:54:30.858348Z"
    }
   },
   "source": [
    "from warnings import filterwarnings\n",
    "\n",
    "import matplotlib.pyplot as plt\n",
    "import numpy as np\n",
    "import seaborn as sns\n",
    "from scipy.sparse import load_npz\n",
    "from sklearn.model_selection import train_test_split\n",
    "\n",
    "\n",
    "sns.set(style=\"darkgrid\")\n",
    "filterwarnings(\"ignore\")"
   ],
   "outputs": [],
   "execution_count": 1
  },
  {
   "cell_type": "code",
   "metadata": {
    "pycharm": {
     "name": "#%%\n"
    },
    "id": "yvolL0KvlWlQ",
    "ExecuteTime": {
     "end_time": "2024-06-12T02:54:31.062087Z",
     "start_time": "2024-06-12T02:54:31.047086Z"
    }
   },
   "source": [
    "x = load_npz(\"x.npz\")\n",
    "y = np.load(\"y.npy\")"
   ],
   "outputs": [],
   "execution_count": 2
  },
  {
   "cell_type": "markdown",
   "metadata": {
    "pycharm": {
     "name": "#%% md\n"
    },
    "id": "PRMjj9ZslWlQ"
   },
   "source": [
    "Разделим на обучающую, валидационную и тестовую выборки (`random_state` оставьте равным 666 для воспроизводимости)."
   ]
  },
  {
   "cell_type": "code",
   "metadata": {
    "pycharm": {
     "name": "#%%\n"
    },
    "id": "Hme6Cf0HlWlR",
    "ExecuteTime": {
     "end_time": "2024-06-12T02:54:31.078723Z",
     "start_time": "2024-06-12T02:54:31.063088Z"
    }
   },
   "source": [
    "x_train, x_test, y_train, y_test = train_test_split(\n",
    "    x, y, test_size=0.2, random_state=666\n",
    ")\n",
    "\n",
    "x_test, x_valid, y_test, y_valid = train_test_split(\n",
    "    x_test, y_test, test_size=0.5, random_state=666\n",
    ")\n",
    "\n",
    "x_train.shape, x_valid.shape, x_test.shape"
   ],
   "outputs": [
    {
     "data": {
      "text/plain": [
       "((18825, 169), (2354, 169), (2353, 169))"
      ]
     },
     "execution_count": 3,
     "metadata": {},
     "output_type": "execute_result"
    }
   ],
   "execution_count": 3
  },
  {
   "cell_type": "markdown",
   "metadata": {
    "pycharm": {
     "name": "#%% md\n"
    },
    "id": "tHaBuXarlWlR"
   },
   "source": [
    "## Задание 1. Реализация градиентного бустинга [2 балла]\n",
    "\n",
    "Необходимо дописать код в файле `boosting.py`. Уже создан шаблон класса `Boosting`, который можно модифицировать по своему усмотрению.\n",
    "\n",
    "### Описание функций:\n",
    "\n",
    "#### `__init__`\n",
    "\n",
    "Конструктор класса принимает следующие параметры:\n",
    "\n",
    "- `base_model_class` — класс базовой модели для бустинга.\n",
    "- `base_model_params` — словарь гиперпараметров для базовой модели.\n",
    "- `n_estimators` — количество базовых моделей для обучения.\n",
    "- `learning_rate` — темп обучения, должен быть в диапазоне (0, 1].\n",
    "- `subsample` — доля обучающей выборки для тренировки базовой модели (размер бутстрап-выборки относительно исходной).\n",
    "- `early_stopping_rounds` — число итераций без улучшения на валидационной выборке, после которых обучение прекращается.\n",
    "- `plot` — флаг для построения графика качества моделей после обучения.\n",
    "\n",
    "#### `fit`\n",
    "\n",
    "Метод `fit` принимает обучающую и валидационную выборки.\n",
    "\n",
    "1. Инициализируем нулевую модель и делаем предсказания (например, все нули) для обеих выборок.\n",
    "2. Обучаем `n_estimators` базовых моделей:\n",
    "   - Обучаем новую базовую модель на текущих остатках.\n",
    "   - Обновляем предсказания на обучающей и валидационной выборках.\n",
    "   - Рассчитываем ошибки на обеих выборках с помощью `loss_fn`.\n",
    "   - Проверяем условия для ранней остановки.\n",
    "\n",
    "3. Если флаг `plot` установлен, строим график качества после обучения всех моделей.\n",
    "\n",
    "#### `fit_new_base_model`\n",
    "\n",
    "Метод `fit_new_base_model` принимает обучающую выборку и текущие предсказания для неё.\n",
    "\n",
    "1. Генерируем бутстрап-выборку.\n",
    "2. Обучаем базовую модель на этой выборке.\n",
    "3. Оптимизируем значение гаммы.\n",
    "4. Добавляем новую базовую модель и гамму в соответствующие списки (учитывая `learning_rate`).\n",
    "\n",
    "#### `predict_proba`\n",
    "\n",
    "Метод `predict_proba` принимает выборку для предсказания вероятностей.\n",
    "\n",
    "1. Суммируем предсказания базовых моделей (учитывая гамму и `learning_rate`).\n",
    "2. Применяем сигмоидальную функцию для получения вероятностей."
   ]
  },
  {
   "cell_type": "code",
   "metadata": {
    "pycharm": {
     "name": "#%%\n"
    },
    "id": "xh3nawbUlWlS",
    "ExecuteTime": {
     "end_time": "2024-06-12T02:54:31.156923Z",
     "start_time": "2024-06-12T02:54:31.081428Z"
    }
   },
   "source": "%load_ext autoreload",
   "outputs": [],
   "execution_count": 4
  },
  {
   "cell_type": "code",
   "metadata": {
    "pycharm": {
     "name": "#%%\n"
    },
    "id": "reqHbUEBlWlS",
    "ExecuteTime": {
     "end_time": "2024-06-12T02:54:31.234855Z",
     "start_time": "2024-06-12T02:54:31.157924Z"
    }
   },
   "source": [
    "%autoreload 2\n",
    "\n",
    "from boosting import Boosting"
   ],
   "outputs": [],
   "execution_count": 5
  },
  {
   "cell_type": "markdown",
   "metadata": {
    "pycharm": {
     "name": "#%% md\n"
    },
    "id": "l7wWK5RplWlT"
   },
   "source": [
    "### Проверка кода\n",
    "\n",
    "У автора задания всё учится около одной секунды."
   ]
  },
  {
   "cell_type": "code",
   "metadata": {
    "pycharm": {
     "name": "#%%\n"
    },
    "id": "00lZjzI3lWlT",
    "outputId": "c1aa6886-069b-433f-f0c1-5cf70bdb15cb",
    "ExecuteTime": {
     "end_time": "2024-06-12T02:54:32.903431Z",
     "start_time": "2024-06-12T02:54:31.236365Z"
    }
   },
   "source": [
    "boosting = Boosting(plot=True)\n",
    "\n",
    "%time boosting.fit(x_train, y_train, x_valid, y_valid)\n",
    "\n",
    "assert len(boosting.models) == boosting.n_estimators\n",
    "assert len(boosting.gammas) == boosting.n_estimators\n",
    "\n",
    "assert boosting.predict_proba(x_test).shape == (x_test.shape[0], 2)\n",
    "\n",
    "print(f'Train ROC-AUC {boosting.score(x_train, y_train):.4f}')\n",
    "print(f'Valid ROC-AUC {boosting.score(x_valid, y_valid):.4f}')\n",
    "print(f'Test ROC-AUC {boosting.score(x_test, y_test):.4f}') "
   ],
   "outputs": [
    {
     "data": {
      "text/plain": [
       "<Figure size 640x480 with 1 Axes>"
      ],
      "image/png": "[encoded data removed]"
     },
     "metadata": {},
     "output_type": "display_data"
    },
    {
     "name": "stdout",
     "output_type": "stream",
     "text": [
      "CPU times: total: 438 ms\n",
      "Wall time: 1.56 s\n",
      "Train ROC-AUC 0.9863\n",
      "Valid ROC-AUC 0.9462\n",
      "Test ROC-AUC 0.9435\n"
     ]
    }
   ],
   "execution_count": 6
  },
  {
   "cell_type": "markdown",
   "metadata": {
    "pycharm": {
     "name": "#%% md\n"
    },
    "id": "MlU-c9CxlWlU"
   },
   "source": [
    "## Задание 2. Обучение градиентного бустинга [0.5 балла]\n",
    "\n",
    "Оцените качество вашей реализации градиентного бустинга на тестовой выборке, используя базовые модели — решающие деревья с различной максимальной глубиной. Метрикой будет ROC-AUC.\n",
    "\n",
    "**Инструкция:**\n",
    "1. Перебирайте значения максимальной глубины деревьев от 1 до 30 с шагом 2.\n",
    "2. Оставьте остальные параметры бустинга по умолчанию.\n",
    "3. Постройте график зависимости качества на обучающей и тестовой выборке от максимальной глубины деревьев."
   ]
  },
  {
   "cell_type": "code",
   "metadata": {
    "pycharm": {
     "name": "#%%\n"
    },
    "id": "-IjO9FqelWlU",
    "ExecuteTime": {
     "end_time": "2024-06-12T02:54:45.122880Z",
     "start_time": "2024-06-12T02:54:32.904431Z"
    }
   },
   "source": [
    "results = {}\n",
    "\n",
    "depths = range(1, 30, 2)\n",
    "\n",
    "### ╰( ͡☉ ͜ʖ ͡☉ )つ──☆*:・ﾟ   ฅ^•ﻌ•^ฅ   ʕ•ᴥ•ʔ\n",
    "from matplotlib import pyplot as plt\n",
    "\n",
    "for depth in depths:\n",
    "    boosting = Boosting(plot=False, base_model_params={\"max_depth\": depth})\n",
    "    boosting.fit(x_train, y_train, x_valid, y_valid)\n",
    "    results[depth] = boosting.score(x_valid, y_valid)\n",
    "\n",
    "plt.figure(figsize=(15,5))\n",
    "plt.plot(range(1, 30, 2), results.values())\n",
    "plt.title('validation score')\n",
    "plt.xlabel('depth')\n",
    "plt.ylabel('score')\n",
    "plt.show()"
   ],
   "outputs": [
    {
     "data": {
      "text/plain": [
       "<Figure size 1500x500 with 1 Axes>"
      ],
      "image/png": "[encoded data removed]"
     },
     "metadata": {},
     "output_type": "display_data"
    }
   ],
   "execution_count": 7
  },
  {
   "cell_type": "markdown",
   "metadata": {
    "pycharm": {
     "name": "#%% md\n"
    },
    "id": "bshz0JV6lWlV"
   },
   "source": [
    "**Какая из моделей имеет лучшее качество? Как вы можете это объяснить?**\n",
    "чисто на глаз глубина 7 это самое чоткое что может быть в этой жизни. Дерево плюс минус неглубокое, и имеет приемлимую обобщающую способность )\n",
    "╰( ͡☉ ͜ʖ ͡☉ )つ──☆*:・ﾟ   ฅ^•ﻌ•^ฅ   ʕ•ᴥ•ʔ"
   ]
  },
  {
   "cell_type": "markdown",
   "metadata": {
    "id": "8FwaUsmqlWlV"
   },
   "source": [
    "## Задание 3. Подбор гиперпараметров и поиск оптимальной модели [3 балла]\n",
    "\n",
    "Настройте основные гиперпараметры вашей модели градиентного бустинга, используя валидационную выборку. Подберите параметры как для самого бустинга, так и для базовых моделей.\n",
    "\n",
    "**Рекомендации:**\n",
    "- Используйте библиотеки для автоматизированного подбора гиперпараметров, такие как [Hyperopt](https://github.com/hyperopt/hyperopt) или [Optuna](https://optuna.org/).\n",
    "- Подберите все основные параметры, чтобы найти лучшую модель на валидационной выборке."
   ]
  },
  {
   "cell_type": "code",
   "metadata": {
    "pycharm": {
     "is_executing": true,
     "name": "#%%\n"
    },
    "id": "rZq0rKpWlWlV",
    "ExecuteTime": {
     "end_time": "2024-06-12T02:55:35.883720Z",
     "start_time": "2024-06-12T02:54:45.123882Z"
    }
   },
   "source": [
    "import optuna\n",
    "\n",
    "\n",
    "def objective(trial):\n",
    "    boosting = Boosting(\n",
    "        plot=False,\n",
    "        n_estimators=trial.suggest_int('n_estimators', 10, 100, step=10),\n",
    "        learning_rate=trial.suggest_float('learning_rate', 0.01, 1.0, step=0.05),\n",
    "        subsample=trial.suggest_float('subsample', 0.3, 0.7, step=0.1),\n",
    "        base_model_params={\n",
    "            \"max_depth\": trial.suggest_int('max_depth', 3, 15, step=2),\n",
    "            \"min_samples_split\": trial.suggest_int('min_samples_split', 3, 30, step=2),\n",
    "            \"min_samples_leaf\": trial.suggest_int('min_samples_leaf', 3, 30, step=2)\n",
    "        }\n",
    "    )\n",
    "    boosting.fit(x_train, y_train, x_valid, y_valid)\n",
    "    return boosting.score(x_valid, y_valid)\n",
    "\n",
    "# 2. Создаем объект исследования и оптимизируем целевую функцию\n",
    "study = optuna.create_study(direction='maximize')\n",
    "study.optimize(objective, n_trials=10)\n",
    "\n",
    "# 3. Выводим лучшие гиперпараметры\n",
    "print(\"Best hyperparameters: \", study.best_params)\n",
    "\n",
    "# 4. Обучаем модель с лучшими параметрами\n",
    "best_params = study.best_params\n",
    "\n",
    "final_base_model_params = {\n",
    "    \"max_depth\": best_params[\"max_depth\"],\n",
    "    \"min_samples_split\": best_params[\"min_samples_split\"],\n",
    "    \"min_samples_leaf\": best_params[\"min_samples_leaf\"],\n",
    "}\n",
    "\n",
    "final_boosting = Boosting(\n",
    "    base_model_params=final_base_model_params,\n",
    "    n_estimators=best_params[\"n_estimators\"],\n",
    "    learning_rate=best_params[\"learning_rate\"],\n",
    "    subsample=best_params[\"subsample\"],\n",
    "    plot=True\n",
    ")\n",
    "\n",
    "final_boosting.fit(x_train, y_train, x_valid, y_valid)\n",
    "\n",
    "# Оценка модели на тренировочной и валидационной выборках\n",
    "print(f'Train ROC-AUC: {final_boosting.score(x_train, y_train):.4f}')\n",
    "print(f'Valid ROC-AUC: {final_boosting.score(x_valid, y_valid):.4f}')\n",
    "\n",
    "# print(f'Test ROC-AUC: {final_boosting.score(x_test, y_test):.4f}')"
   ],
   "outputs": [
    {
     "name": "stderr",
     "output_type": "stream",
     "text": [
      "[I 2024-06-12 07:54:45,258] A new study created in memory with name: no-name-7eb4826a-62eb-4543-8dd3-6d5d39b737f2\n",
      "[I 2024-06-12 07:54:47,317] Trial 0 finished with value: 0.9381619634802436 and parameters: {'n_estimators': 70, 'learning_rate': 0.96, 'subsample': 0.4, 'max_depth': 3, 'min_samples_split': 17, 'min_samples_leaf': 13}. Best is trial 0 with value: 0.9381619634802436.\n",
      "[I 2024-06-12 07:54:57,326] Trial 1 finished with value: 0.9560699129519692 and parameters: {'n_estimators': 90, 'learning_rate': 0.7100000000000001, 'subsample': 0.5, 'max_depth': 15, 'min_samples_split': 11, 'min_samples_leaf': 5}. Best is trial 1 with value: 0.9560699129519692.\n",
      "[I 2024-06-12 07:54:58,444] Trial 2 finished with value: 0.9396005627809615 and parameters: {'n_estimators': 40, 'learning_rate': 0.8600000000000001, 'subsample': 0.3, 'max_depth': 3, 'min_samples_split': 23, 'min_samples_leaf': 11}. Best is trial 1 with value: 0.9560699129519692.\n",
      "[I 2024-06-12 07:55:00,025] Trial 3 finished with value: 0.9400417128978263 and parameters: {'n_estimators': 50, 'learning_rate': 0.21000000000000002, 'subsample': 0.7, 'max_depth': 3, 'min_samples_split': 25, 'min_samples_leaf': 23}. Best is trial 1 with value: 0.9560699129519692.\n",
      "[I 2024-06-12 07:55:03,957] Trial 4 finished with value: 0.9591316549039345 and parameters: {'n_estimators': 40, 'learning_rate': 0.21000000000000002, 'subsample': 0.6000000000000001, 'max_depth': 13, 'min_samples_split': 15, 'min_samples_leaf': 21}. Best is trial 4 with value: 0.9591316549039345.\n",
      "[I 2024-06-12 07:55:10,842] Trial 5 finished with value: 0.9601813405320492 and parameters: {'n_estimators': 50, 'learning_rate': 0.060000000000000005, 'subsample': 0.6000000000000001, 'max_depth': 15, 'min_samples_split': 5, 'min_samples_leaf': 3}. Best is trial 5 with value: 0.9601813405320492.\n",
      "[I 2024-06-12 07:55:17,969] Trial 6 finished with value: 0.9610910934956095 and parameters: {'n_estimators': 80, 'learning_rate': 0.51, 'subsample': 0.6000000000000001, 'max_depth': 11, 'min_samples_split': 27, 'min_samples_leaf': 9}. Best is trial 6 with value: 0.9610910934956095.\n",
      "[I 2024-06-12 07:55:20,453] Trial 7 finished with value: 0.957472289900827 and parameters: {'n_estimators': 50, 'learning_rate': 0.11, 'subsample': 0.3, 'max_depth': 11, 'min_samples_split': 27, 'min_samples_leaf': 27}. Best is trial 6 with value: 0.9610910934956095.\n",
      "[I 2024-06-12 07:55:24,840] Trial 8 finished with value: 0.9556272376834472 and parameters: {'n_estimators': 70, 'learning_rate': 0.7100000000000001, 'subsample': 0.7, 'max_depth': 7, 'min_samples_split': 29, 'min_samples_leaf': 13}. Best is trial 6 with value: 0.9610910934956095.\n",
      "[I 2024-06-12 07:55:28,609] Trial 9 finished with value: 0.9559227358170428 and parameters: {'n_estimators': 90, 'learning_rate': 0.66, 'subsample': 0.3, 'max_depth': 7, 'min_samples_split': 25, 'min_samples_leaf': 25}. Best is trial 6 with value: 0.9610910934956095.\n"
     ]
    },
    {
     "name": "stdout",
     "output_type": "stream",
     "text": [
      "Best hyperparameters:  {'n_estimators': 80, 'learning_rate': 0.51, 'subsample': 0.6000000000000001, 'max_depth': 11, 'min_samples_split': 27, 'min_samples_leaf': 9}\n"
     ]
    },
    {
     "data": {
      "text/plain": [
       "<Figure size 640x480 with 1 Axes>"
      ],
      "image/png": "[encoded data removed]"
     },
     "metadata": {},
     "output_type": "display_data"
    },
    {
     "name": "stdout",
     "output_type": "stream",
     "text": [
      "Train ROC-AUC: 0.9732\n",
      "Valid ROC-AUC: 0.9609\n"
     ]
    }
   ],
   "execution_count": 8
  },
  {
   "cell_type": "markdown",
   "metadata": {
    "pycharm": {
     "name": "#%% md\n"
    },
    "id": "hGk-Wt_slWlV"
   },
   "source": [
    "## Задание 4. Интерпретация градиентного бустинга [1 балл]\n",
    "\n",
    "Постройте калибровочную кривую для вашей лучшей модели градиентного бустинга и оцените, насколько точно модель предсказывает вероятности.\n",
    "\n",
    "**Инструкция:**\n",
    "1. Постройте калибровочную кривую для лучшей модели градиентного бустинга.\n",
    "2. Постройте аналогичную кривую для логистической регрессии.\n",
    "3. Сравните полученные результаты и проанализируйте, насколько хорошо каждая модель оценивает вероятности."
   ]
  },
  {
   "cell_type": "code",
   "metadata": {
    "pycharm": {
     "name": "#%%\n"
    },
    "id": "LdJG4bHClWlV",
    "ExecuteTime": {
     "end_time": "2024-06-12T02:55:35.962138Z",
     "start_time": "2024-06-12T02:55:35.884725Z"
    }
   },
   "source": [
    "### ╰( ͡☉ ͜ʖ ͡☉ )つ──☆*:・ﾟ   ฅ^•ﻌ•^ฅ   ʕ•ᴥ•ʔ"
   ],
   "outputs": [],
   "execution_count": 9
  },
  {
   "cell_type": "markdown",
   "metadata": {
    "pycharm": {
     "name": "#%% md\n"
    },
    "id": "8O6bjp2MlWlW"
   },
   "source": [
    "Теперь оценим важность признаков для градиентного бустинга.\n",
    "\n",
    "**Задание:**\n",
    "1. Поскольку базовая модель — дерево из `sklearn`, вычислите важность каждого признака для каждого дерева, используя атрибут `feature_importances_` у `DecisionTreeRegressor`.\n",
    "2. Усредните значения важности по всем деревьям и нормализуйте их так, чтобы сумма была равна единице (убедитесь, что значения неотрицательны).\n",
    "3. Дополните вашу реализацию бустинга, добавив метод `feature_importances_`, который будет возвращать усредненные и нормализованные важности признаков.\n",
    "\n",
    "**Построение графиков:**\n",
    "1. Постройте столбчатую диаграмму важности признаков для градиентного бустинга.\n",
    "2. На соседнем графике изобразите важность признаков для логистической регрессии, используя модули весов.\n",
    "3. Сравните графики и проанализируйте полученные результаты."
   ]
  },
  {
   "cell_type": "code",
   "metadata": {
    "pycharm": {
     "name": "#%%\n"
    },
    "id": "y0JNgBk_lWlW",
    "ExecuteTime": {
     "end_time": "2024-06-12T02:55:36.040330Z",
     "start_time": "2024-06-12T02:55:35.963140Z"
    }
   },
   "source": [
    "### ╰( ͡☉ ͜ʖ ͡☉ )つ──☆*:・ﾟ   ฅ^•ﻌ•^ฅ   ʕ•ᴥ•ʔ"
   ],
   "outputs": [],
   "execution_count": 10
  },
  {
   "cell_type": "markdown",
   "metadata": {
    "pycharm": {
     "name": "#%% md\n"
    },
    "id": "xheSi2IolWlW"
   },
   "source": [
    "Обычно избыточные признаки могут негативно влиять на качество бустинга. Попробуйте следующее:\n",
    "\n",
    "1. **Отфильтруйте неважные признаки:** Используйте построенную диаграмму важности признаков, чтобы отобрать наиболее незначительные признаки.\n",
    "2. **Обучите модель повторно:** Обучите модель на основе оставшихся признаков с теми же гиперпараметрами.\n",
    "3. **Оцените качество модели:** Сравните результаты новой модели с исходной. Улучшилось ли качество после отфильтровывания незначительных признаков?"
   ]
  },
  {
   "cell_type": "code",
   "metadata": {
    "pycharm": {
     "name": "#%%\n"
    },
    "id": "Rw9W9MEYlWlW",
    "ExecuteTime": {
     "end_time": "2024-06-12T02:55:36.119197Z",
     "start_time": "2024-06-12T02:55:36.040859Z"
    }
   },
   "source": [
    "### ╰( ͡☉ ͜ʖ ͡☉ )つ──☆*:・ﾟ   ฅ^•ﻌ•^ฅ   ʕ•ᴥ•ʔ"
   ],
   "outputs": [],
   "execution_count": 11
  },
  {
   "cell_type": "markdown",
   "metadata": {
    "pycharm": {
     "name": "#%% md\n"
    },
    "id": "pH3489RklWlW"
   },
   "source": [
    "## Задание 5 (бонус). Блендинговое [0.5 балла]\n",
    "\n",
    "Реализуйте блендинг над вашей лучшей моделью и логистической регрессией. Улучшилось ли качество?"
   ]
  },
  {
   "cell_type": "code",
   "metadata": {
    "pycharm": {
     "name": "#%%\n"
    },
    "id": "FWcDMMVilWlW",
    "ExecuteTime": {
     "end_time": "2024-06-12T02:55:36.196607Z",
     "start_time": "2024-06-12T02:55:36.120150Z"
    }
   },
   "source": [
    "### ╰( ͡☉ ͜ʖ ͡☉ )つ──☆*:・ﾟ   ฅ^•ﻌ•^ฅ   ʕ•ᴥ•ʔ"
   ],
   "outputs": [],
   "execution_count": 12
  },
  {
   "cell_type": "markdown",
   "metadata": {
    "collapsed": false,
    "pycharm": {
     "name": "#%% md\n"
    },
    "id": "eEF0yJ4vlWlX"
   },
   "source": [
    "## Задание 6 (бонус). Катбустовое [0.5 балла]\n",
    "\n",
    "Запустите [CatBoost](https://catboost.ai/en/docs/concepts/python-quickstart) на наших данных, сравните с вашей реализацией. Где получилось лучше?"
   ]
  },
  {
   "cell_type": "code",
   "metadata": {
    "pycharm": {
     "name": "#%%\n"
    },
    "id": "0lYGhc_clWlX",
    "ExecuteTime": {
     "end_time": "2024-06-12T02:55:36.274931Z",
     "start_time": "2024-06-12T02:55:36.197610Z"
    }
   },
   "source": [
    "### ╰( ͡☉ ͜ʖ ͡☉ )つ──☆*:・ﾟ   ฅ^•ﻌ•^ฅ   ʕ•ᴥ•ʔ"
   ],
   "outputs": [],
   "execution_count": 13
  },
  {
   "cell_type": "markdown",
   "source": [
    "Оставьте пожалуйста отзыв о курсе!\n",
    "\n",
    "https://forms.gle/LajA3Xrps6u96Q5A8\n",
    "\n",
    "\n",
    "Это очень важно. Благодаря обратной связи мы будем двигаться в сторону антиградиента)\n"
   ],
   "metadata": {
    "id": "EqHzTXCllZO8"
   }
  }
 ],
 "metadata": {
  "kernelspec": {
   "display_name": "Python 3 (ipykernel)",
   "language": "python",
   "name": "python3"
  },
  "language_info": {
   "codemirror_mode": {
    "name": "ipython",
    "version": 3
   },
   "file_extension": ".py",
   "mimetype": "text/x-python",
   "name": "python",
   "nbconvert_exporter": "python",
   "pygments_lexer": "ipython3",
   "version": "3.9.7"
  },
  "nbTranslate": {
   "displayLangs": [
    "*"
   ],
   "hotkey": "alt-t",
   "langInMainMenu": true,
   "sourceLang": "en",
   "targetLang": "fr",
   "useGoogleTranslate": true
  },
  "toc": {
   "base_numbering": 1,
   "nav_menu": {
    "height": "210px",
    "width": "492px"
   },
   "number_sections": false,
   "sideBar": true,
   "skip_h1_title": false,
   "title_cell": "Table of Contents",
   "title_sidebar": "Contents",
   "toc_cell": false,
   "toc_position": {},
   "toc_section_display": true,
   "toc_window_display": true
  },
  "varInspector": {
   "cols": {
    "lenName": 16,
    "lenType": 16,
    "lenVar": 40
   },
   "kernels_config": {
    "python": {
     "delete_cmd_postfix": "",
     "delete_cmd_prefix": "del ",
     "library": "var_list.py",
     "varRefreshCmd": "print(var_dic_list())"
    },
    "r": {
     "delete_cmd_postfix": ") ",
     "delete_cmd_prefix": "rm(",
     "library": "var_list.r",
     "varRefreshCmd": "cat(var_dic_list()) "
    }
   },
   "types_to_exclude": [
    "module",
    "function",
    "builtin_function_or_method",
    "instance",
    "_Feature"
   ],
   "window_display": false
  },
  "colab": {
   "provenance": []
  }
 },
 "nbformat": 4,
 "nbformat_minor": 0
}
